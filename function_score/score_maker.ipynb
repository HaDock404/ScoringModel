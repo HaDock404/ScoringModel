{
 "cells": [
  {
   "cell_type": "code",
   "execution_count": 63,
   "id": "72ae57d9",
   "metadata": {},
   "outputs": [],
   "source": [
    "import numpy as np\n",
    "import pandas as pd\n",
    "from sklearn.metrics import make_scorer\n",
    "from sklearn.metrics import accuracy_score"
   ]
  },
  {
   "cell_type": "code",
   "execution_count": 64,
   "id": "6bb967cf",
   "metadata": {},
   "outputs": [],
   "source": [
    "data = {'y_pred': [1, 0, 1, 1, 0, 0, 0, 1, 0, 1],\n",
    "        'y_test': [1, 1, 0, 0, 0, 0, 0, 1, 1, 0]}"
   ]
  },
  {
   "cell_type": "code",
   "execution_count": 65,
   "id": "7d87a06f",
   "metadata": {},
   "outputs": [],
   "source": [
    "df = pd.DataFrame(data)"
   ]
  },
  {
   "cell_type": "code",
   "execution_count": 66,
   "id": "77eddae0",
   "metadata": {},
   "outputs": [
    {
     "data": {
      "text/html": [
       "<div>\n",
       "<style scoped>\n",
       "    .dataframe tbody tr th:only-of-type {\n",
       "        vertical-align: middle;\n",
       "    }\n",
       "\n",
       "    .dataframe tbody tr th {\n",
       "        vertical-align: top;\n",
       "    }\n",
       "\n",
       "    .dataframe thead th {\n",
       "        text-align: right;\n",
       "    }\n",
       "</style>\n",
       "<table border=\"1\" class=\"dataframe\">\n",
       "  <thead>\n",
       "    <tr style=\"text-align: right;\">\n",
       "      <th></th>\n",
       "      <th>y_pred</th>\n",
       "      <th>y_test</th>\n",
       "    </tr>\n",
       "  </thead>\n",
       "  <tbody>\n",
       "    <tr>\n",
       "      <th>0</th>\n",
       "      <td>1</td>\n",
       "      <td>1</td>\n",
       "    </tr>\n",
       "    <tr>\n",
       "      <th>1</th>\n",
       "      <td>0</td>\n",
       "      <td>1</td>\n",
       "    </tr>\n",
       "    <tr>\n",
       "      <th>2</th>\n",
       "      <td>1</td>\n",
       "      <td>0</td>\n",
       "    </tr>\n",
       "    <tr>\n",
       "      <th>3</th>\n",
       "      <td>1</td>\n",
       "      <td>0</td>\n",
       "    </tr>\n",
       "    <tr>\n",
       "      <th>4</th>\n",
       "      <td>0</td>\n",
       "      <td>0</td>\n",
       "    </tr>\n",
       "    <tr>\n",
       "      <th>5</th>\n",
       "      <td>0</td>\n",
       "      <td>0</td>\n",
       "    </tr>\n",
       "    <tr>\n",
       "      <th>6</th>\n",
       "      <td>0</td>\n",
       "      <td>0</td>\n",
       "    </tr>\n",
       "    <tr>\n",
       "      <th>7</th>\n",
       "      <td>1</td>\n",
       "      <td>1</td>\n",
       "    </tr>\n",
       "    <tr>\n",
       "      <th>8</th>\n",
       "      <td>0</td>\n",
       "      <td>1</td>\n",
       "    </tr>\n",
       "    <tr>\n",
       "      <th>9</th>\n",
       "      <td>1</td>\n",
       "      <td>0</td>\n",
       "    </tr>\n",
       "  </tbody>\n",
       "</table>\n",
       "</div>"
      ],
      "text/plain": [
       "   y_pred  y_test\n",
       "0       1       1\n",
       "1       0       1\n",
       "2       1       0\n",
       "3       1       0\n",
       "4       0       0\n",
       "5       0       0\n",
       "6       0       0\n",
       "7       1       1\n",
       "8       0       1\n",
       "9       1       0"
      ]
     },
     "execution_count": 66,
     "metadata": {},
     "output_type": "execute_result"
    }
   ],
   "source": [
    "df"
   ]
  },
  {
   "cell_type": "markdown",
   "id": "9ae19fed",
   "metadata": {},
   "source": [
    "## Liste des prédictions\n",
    "#### 0 = remboursement, 1 = non-remboursement\n",
    "0. TRUE POSITIVE\n",
    "1. FALSE NEGATIVE ------\n",
    "2. FALSE POSITIVE ------\n",
    "3. FALSE POSITIVE ++++++\n",
    "4. TRUE NEGATIVE\n",
    "5. TRUE NEGATIVE\n",
    "6. TRUE NEGATIVE\n",
    "7. TRUE POSITIVE\n",
    "8. FALSE NEGATIVE ++++++\n",
    "9. FALSE POSITIVE ------"
   ]
  },
  {
   "cell_type": "code",
   "execution_count": 67,
   "id": "935e35a7",
   "metadata": {},
   "outputs": [
    {
     "data": {
      "text/plain": [
       "array([1, 0, 1, 1, 0, 0, 0, 1, 0, 1])"
      ]
     },
     "execution_count": 67,
     "metadata": {},
     "output_type": "execute_result"
    }
   ],
   "source": [
    "y_pred = np.array([1, 0, 1, 1, 0, 0, 0, 1, 0, 1])\n",
    "y_pred"
   ]
  },
  {
   "cell_type": "code",
   "execution_count": 68,
   "id": "b0a39a7d",
   "metadata": {},
   "outputs": [
    {
     "data": {
      "text/html": [
       "<div>\n",
       "<style scoped>\n",
       "    .dataframe tbody tr th:only-of-type {\n",
       "        vertical-align: middle;\n",
       "    }\n",
       "\n",
       "    .dataframe tbody tr th {\n",
       "        vertical-align: top;\n",
       "    }\n",
       "\n",
       "    .dataframe thead th {\n",
       "        text-align: right;\n",
       "    }\n",
       "</style>\n",
       "<table border=\"1\" class=\"dataframe\">\n",
       "  <thead>\n",
       "    <tr style=\"text-align: right;\">\n",
       "      <th></th>\n",
       "      <th>TARGET</th>\n",
       "    </tr>\n",
       "  </thead>\n",
       "  <tbody>\n",
       "    <tr>\n",
       "      <th>0</th>\n",
       "      <td>1</td>\n",
       "    </tr>\n",
       "    <tr>\n",
       "      <th>1</th>\n",
       "      <td>1</td>\n",
       "    </tr>\n",
       "    <tr>\n",
       "      <th>2</th>\n",
       "      <td>0</td>\n",
       "    </tr>\n",
       "    <tr>\n",
       "      <th>3</th>\n",
       "      <td>0</td>\n",
       "    </tr>\n",
       "    <tr>\n",
       "      <th>4</th>\n",
       "      <td>0</td>\n",
       "    </tr>\n",
       "    <tr>\n",
       "      <th>5</th>\n",
       "      <td>0</td>\n",
       "    </tr>\n",
       "    <tr>\n",
       "      <th>6</th>\n",
       "      <td>0</td>\n",
       "    </tr>\n",
       "    <tr>\n",
       "      <th>7</th>\n",
       "      <td>1</td>\n",
       "    </tr>\n",
       "    <tr>\n",
       "      <th>8</th>\n",
       "      <td>1</td>\n",
       "    </tr>\n",
       "    <tr>\n",
       "      <th>9</th>\n",
       "      <td>0</td>\n",
       "    </tr>\n",
       "  </tbody>\n",
       "</table>\n",
       "</div>"
      ],
      "text/plain": [
       "   TARGET\n",
       "0       1\n",
       "1       1\n",
       "2       0\n",
       "3       0\n",
       "4       0\n",
       "5       0\n",
       "6       0\n",
       "7       1\n",
       "8       1\n",
       "9       0"
      ]
     },
     "execution_count": 68,
     "metadata": {},
     "output_type": "execute_result"
    }
   ],
   "source": [
    "y_test = {'TARGET':[1, 1, 0, 0, 0, 0, 0, 1, 1, 0]}\n",
    "y_test = pd.DataFrame(y_true)\n",
    "y_test"
   ]
  },
  {
   "cell_type": "markdown",
   "id": "69b9b7e7",
   "metadata": {},
   "source": [
    "## Ma function"
   ]
  },
  {
   "cell_type": "code",
   "execution_count": 75,
   "id": "39c5a2d4",
   "metadata": {},
   "outputs": [],
   "source": [
    "def custom_penalty(y_test, y_pred):\n",
    "    y_test = y_test.to_numpy().flatten()\n",
    "    precision = accuracy_score(y_test, y_pred)\n",
    "    penalty = 0.0\n",
    "    \n",
    "    for yt, yp in zip(y_test, y_pred):\n",
    "        if yt == 1 and yp == 0:\n",
    "            #penalty = precision * 0.1\n",
    "            #ou\n",
    "            penalty = penalty + 0.05\n",
    "    return precision - penalty"
   ]
  },
  {
   "cell_type": "markdown",
   "id": "2849b75f",
   "metadata": {},
   "source": [
    "## Fonction GitHub"
   ]
  },
  {
   "cell_type": "code",
   "execution_count": 79,
   "id": "4ab38017",
   "metadata": {},
   "outputs": [],
   "source": [
    "def home_credit_scoring_fn(y_test, y_pred):\n",
    "    \"\"\"\n",
    "    Custom scoring function, designed to penalize more false negatives\n",
    "    by a factor 10 (default). It can be modified in the fn/fp variables\n",
    "    \"\"\"\n",
    "    fn_cost = 10\n",
    "    fp_cost = 1\n",
    "\n",
    "    fp = ((y_pred == 1) & (y_test == 0)).sum()\n",
    "    fn = ((y_pred == 0) & (y_test == 1)).sum()\n",
    "\n",
    "    score = (fn * fn_cost + fp * fp_cost) / (fn + fp + 1e-7)  # Prevents zero division\n",
    "    return score"
   ]
  },
  {
   "cell_type": "markdown",
   "id": "5bd7b6d5",
   "metadata": {},
   "source": [
    "## Hybrid function"
   ]
  },
  {
   "cell_type": "code",
   "execution_count": 104,
   "id": "0952ad33",
   "metadata": {},
   "outputs": [],
   "source": [
    "def hybrid_penalty(y_test, y_pred):\n",
    "\n",
    "    y_test = y_test.to_numpy().flatten()\n",
    "    penalty = 0.0\n",
    "    sum_penalty = 0\n",
    "    \n",
    "    for yt, yp in zip(y_test, y_pred):\n",
    "        if yt == 1 and yp == 0:\n",
    "            penalty = penalty + 10\n",
    "            sum_penalty = sum_penalty +1\n",
    "        elif yt == 0 and yp == 1:\n",
    "            penalty = penalty + 1\n",
    "            sum_penalty = sum_penalty +1\n",
    "            \n",
    "    score = (penalty/len(y_test))*0.1#/ (sum_penalty + 1e-7) # Prevents zero division\n",
    "    return score"
   ]
  },
  {
   "cell_type": "code",
   "execution_count": 105,
   "id": "77c329c3",
   "metadata": {},
   "outputs": [
    {
     "data": {
      "text/plain": [
       "0.5"
      ]
     },
     "execution_count": 105,
     "metadata": {},
     "output_type": "execute_result"
    }
   ],
   "source": [
    "accuracy_score(y_test, y_pred)"
   ]
  },
  {
   "cell_type": "code",
   "execution_count": 106,
   "id": "eb90a111",
   "metadata": {},
   "outputs": [],
   "source": [
    "#custom_penalty(y_test, y_pred)"
   ]
  },
  {
   "cell_type": "code",
   "execution_count": 107,
   "id": "3740291c",
   "metadata": {},
   "outputs": [
    {
     "data": {
      "text/plain": [
       "0.22999999999999998"
      ]
     },
     "execution_count": 107,
     "metadata": {},
     "output_type": "execute_result"
    }
   ],
   "source": [
    "hybrid_penalty(y_test, y_pred)"
   ]
  },
  {
   "cell_type": "code",
   "execution_count": null,
   "id": "1860e4c5",
   "metadata": {},
   "outputs": [],
   "source": []
  },
  {
   "cell_type": "code",
   "execution_count": null,
   "id": "eb35da32",
   "metadata": {},
   "outputs": [],
   "source": []
  }
 ],
 "metadata": {
  "kernelspec": {
   "display_name": "Python 3 (ipykernel)",
   "language": "python",
   "name": "python3"
  },
  "language_info": {
   "codemirror_mode": {
    "name": "ipython",
    "version": 3
   },
   "file_extension": ".py",
   "mimetype": "text/x-python",
   "name": "python",
   "nbconvert_exporter": "python",
   "pygments_lexer": "ipython3",
   "version": "3.10.9"
  }
 },
 "nbformat": 4,
 "nbformat_minor": 5
}
