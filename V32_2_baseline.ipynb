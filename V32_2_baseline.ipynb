{
 "cells": [
  {
   "cell_type": "code",
   "execution_count": 1,
   "id": "8ddb4c31",
   "metadata": {},
   "outputs": [],
   "source": [
    "import pandas as pd\n",
    "import numpy as np\n",
    "import time\n",
    "import shap\n",
    "from sklearn.preprocessing import StandardScaler\n",
    "from sklearn.preprocessing import MinMaxScaler\n",
    "from sklearn.metrics import make_scorer\n",
    "from sklearn.metrics import accuracy_score, classification_report\n",
    "from sklearn.model_selection import GridSearchCV\n",
    "from sklearn.model_selection import cross_val_score\n",
    "import matplotlib.pyplot as plt\n",
    "import seaborn as sns"
   ]
  },
  {
   "cell_type": "markdown",
   "id": "6b8296fb",
   "metadata": {},
   "source": [
    "Pour analyser la pertinence du modèle que nous sélectionnerons, nous devons créer une fonction qui pénalise les mauvaises prédiction et plus particulièrement les False Negative. Ce sont des prédictions du modèle qui prédise un 0 alors que nous attendons un 1. Cette prédiction est plus dangereuse pour la pertinence du modèle car si nous prédisons un remboursement probable d'un crédit et que cela n'est pas le cas, cela impacte directement la rentabilité de la banque, ce qui n'est pas souhaitable."
   ]
  },
  {
   "cell_type": "code",
   "execution_count": 2,
   "id": "f4802cb8",
   "metadata": {},
   "outputs": [],
   "source": [
    "def custom_penalty(y_test, y_pred):\n",
    "    y_test = y_test.to_numpy().flatten()\n",
    "    penalty = 0.0\n",
    "    sum_penalty = 0\n",
    "    \n",
    "    for yt, yp in zip(y_test, y_pred):\n",
    "        if yt == 1 and yp == 0:\n",
    "            penalty = penalty + 10\n",
    "            \n",
    "        elif yt == 0 and yp == 1:\n",
    "            penalty = penalty + 1\n",
    "\n",
    "            \n",
    "    score = (penalty/len(y_test))*0.1#/ (sum_penalty + 1e-7) # Prevents zero division\n",
    "    return score"
   ]
  },
  {
   "cell_type": "code",
   "execution_count": 3,
   "id": "f9dad11a",
   "metadata": {},
   "outputs": [],
   "source": [
    "X_train_hybrid = pd.read_csv('X_train_CSV_hybrid.csv')\n",
    "X_test_hybrid = pd.read_csv('X_test_CSV_hybrid.csv')\n",
    "y_train_hybrid = pd.read_csv('y_train_CSV_hybrid.csv')\n",
    "y_test_hybrid = pd.read_csv('y_test_CSV_hybrid.csv')"
   ]
  },
  {
   "cell_type": "code",
   "execution_count": 4,
   "id": "f9e01994",
   "metadata": {},
   "outputs": [],
   "source": [
    "scaler = StandardScaler()\n",
    "X_train_scaled = scaler.fit_transform(X_train_hybrid)\n",
    "X_test_scaled = scaler.transform(X_test_hybrid)"
   ]
  },
  {
   "cell_type": "code",
   "execution_count": 12,
   "id": "5cddb78c",
   "metadata": {},
   "outputs": [
    {
     "name": "stdout",
     "output_type": "stream",
     "text": [
      "Le temps de traitement est de : 0.0002541542053222656 secondes\n"
     ]
    }
   ],
   "source": [
    "start_time = time.time()\n",
    "y_pred_random = np.random.randint(2, size=y_test_hybrid.shape[0])\n",
    "end_time = time.time()\n",
    "execution_time = end_time - start_time\n",
    "print(f\"Le temps de traitement est de : {execution_time} secondes\")"
   ]
  },
  {
   "cell_type": "code",
   "execution_count": 13,
   "id": "32fcca9f",
   "metadata": {},
   "outputs": [
    {
     "data": {
      "text/plain": [
       "0.24015"
      ]
     },
     "execution_count": 13,
     "metadata": {},
     "output_type": "execute_result"
    }
   ],
   "source": [
    "custom_penalty(y_test_hybrid, y_pred_random)"
   ]
  },
  {
   "cell_type": "code",
   "execution_count": 14,
   "id": "3b74badc",
   "metadata": {},
   "outputs": [
    {
     "name": "stdout",
     "output_type": "stream",
     "text": [
      "RMSE : 0.69\n"
     ]
    }
   ],
   "source": [
    "from sklearn import metrics\n",
    "print(\"RMSE : %.2f\" % np.sqrt(metrics.mean_squared_error(y_test_hybrid, y_pred_random)))"
   ]
  },
  {
   "cell_type": "code",
   "execution_count": 15,
   "id": "31f5114c",
   "metadata": {},
   "outputs": [
    {
     "data": {
      "text/plain": [
       "0.5160919540229885"
      ]
     },
     "execution_count": 15,
     "metadata": {},
     "output_type": "execute_result"
    }
   ],
   "source": [
    "from sklearn.metrics import roc_curve, roc_auc_score\n",
    "fpr, tpr, thresholds = roc_curve(y_test_hybrid, y_pred_random)\n",
    "auc_score_hybrid = roc_auc_score(y_test_hybrid, y_pred_random)\n",
    "auc_score_hybrid"
   ]
  },
  {
   "cell_type": "code",
   "execution_count": 16,
   "id": "dd07383e",
   "metadata": {},
   "outputs": [],
   "source": [
    "X_train_under = pd.read_csv('X_train_CSV_under.csv')\n",
    "X_test_under = pd.read_csv('X_test_CSV_under.csv')\n",
    "y_train_under = pd.read_csv('y_train_CSV_under.csv')\n",
    "y_test_under = pd.read_csv('y_test_CSV_under.csv')"
   ]
  },
  {
   "cell_type": "code",
   "execution_count": 17,
   "id": "168a8cae",
   "metadata": {},
   "outputs": [],
   "source": [
    "scaler = StandardScaler()\n",
    "X_train_scaled = scaler.fit_transform(X_train_under)\n",
    "X_test_scaled = scaler.transform(X_test_under)"
   ]
  },
  {
   "cell_type": "code",
   "execution_count": 18,
   "id": "85c8c3b4",
   "metadata": {},
   "outputs": [
    {
     "name": "stdout",
     "output_type": "stream",
     "text": [
      "Le temps de traitement est de : 0.0006992816925048828 secondes\n"
     ]
    }
   ],
   "source": [
    "start_time = time.time()\n",
    "y_pred_random = np.random.randint(2, size=y_test_under.shape[0])\n",
    "end_time = time.time()\n",
    "execution_time = end_time - start_time\n",
    "print(f\"Le temps de traitement est de : {execution_time} secondes\")"
   ]
  },
  {
   "cell_type": "code",
   "execution_count": 19,
   "id": "c98406e5",
   "metadata": {},
   "outputs": [
    {
     "data": {
      "text/plain": [
       "0.2516"
      ]
     },
     "execution_count": 19,
     "metadata": {},
     "output_type": "execute_result"
    }
   ],
   "source": [
    "custom_penalty(y_test_under, y_pred_random)"
   ]
  },
  {
   "cell_type": "code",
   "execution_count": 20,
   "id": "bf4d8e11",
   "metadata": {},
   "outputs": [
    {
     "name": "stdout",
     "output_type": "stream",
     "text": [
      "RMSE : 0.69\n"
     ]
    }
   ],
   "source": [
    "from sklearn import metrics\n",
    "print(\"RMSE : %.2f\" % np.sqrt(metrics.mean_squared_error(y_test_under, y_pred_random)))"
   ]
  },
  {
   "cell_type": "code",
   "execution_count": 21,
   "id": "6832e858",
   "metadata": {},
   "outputs": [
    {
     "data": {
      "text/plain": [
       "0.4994252873563218"
      ]
     },
     "execution_count": 21,
     "metadata": {},
     "output_type": "execute_result"
    }
   ],
   "source": [
    "fpr, tpr, thresholds = roc_curve(y_test_hybrid, y_pred_random)\n",
    "auc_score_hybrid = roc_auc_score(y_test_hybrid, y_pred_random)\n",
    "auc_score_hybrid"
   ]
  },
  {
   "cell_type": "code",
   "execution_count": null,
   "id": "105581ed",
   "metadata": {},
   "outputs": [],
   "source": []
  }
 ],
 "metadata": {
  "kernelspec": {
   "display_name": "Python 3 (ipykernel)",
   "language": "python",
   "name": "python3"
  },
  "language_info": {
   "codemirror_mode": {
    "name": "ipython",
    "version": 3
   },
   "file_extension": ".py",
   "mimetype": "text/x-python",
   "name": "python",
   "nbconvert_exporter": "python",
   "pygments_lexer": "ipython3",
   "version": "3.10.9"
  }
 },
 "nbformat": 4,
 "nbformat_minor": 5
}
